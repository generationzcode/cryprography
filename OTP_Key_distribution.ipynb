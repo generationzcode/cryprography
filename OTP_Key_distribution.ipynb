{
  "nbformat": 4,
  "nbformat_minor": 0,
  "metadata": {
    "colab": {
      "name": "OTP_Key-distribution.ipynb",
      "provenance": [],
      "collapsed_sections": []
    },
    "kernelspec": {
      "name": "python3",
      "display_name": "Python 3"
    }
  },
  "cells": [
    {
      "cell_type": "code",
      "metadata": {
        "id": "j4lXSXysiQ5o",
        "colab_type": "code",
        "colab": {}
      },
      "source": [
        "from random import randint"
      ],
      "execution_count": 0,
      "outputs": []
    },
    {
      "cell_type": "markdown",
      "metadata": {
        "id": "gsW2WPTnyETE",
        "colab_type": "text"
      },
      "source": [
        "the message is stated here (\"what\") and the otp (one time pad) keys are generated here randomly"
      ]
    },
    {
      "cell_type": "code",
      "metadata": {
        "id": "EE5Dt85L33Yt",
        "colab_type": "code",
        "outputId": "114d0bb4-9fbf-4dd5-d6de-f9b5ffdc554b",
        "colab": {
          "base_uri": "https://localhost:8080/",
          "height": 34
        }
      },
      "source": [
        "inputted=input(\"whats the message you want securely transported for which we will ask you for an unreasonable amount of money to send? \")"
      ],
      "execution_count": 0,
      "outputs": [
        {
          "output_type": "stream",
          "text": [
            "whats the message you want securely transported for which we will ask you for an unreasonable amount of money to send?killtheemperor\n"
          ],
          "name": "stdout"
        }
      ]
    },
    {
      "cell_type": "code",
      "metadata": {
        "id": "db2IBPzeiYkM",
        "colab_type": "code",
        "colab": {}
      },
      "source": [
        "message=list(inputted)\n",
        "letters=[\"a\",\"b\",\"c\",\"d\",\"e\",\"f\",\"g\",\"h\",\"i\",\"j\",\"k\",\"l\",\"m\",\"n\",\"o\",\"p\",\"q\",\"r\",\"s\",\"t\",\"u\",\"v\",\"w\",\"x\",\"y\",\"z\"]\n",
        "alice_key=[]\n",
        "bob_key=[]\n",
        "for i in range(0,(len(message))):\n",
        "  alice_key.append(randint(0,25))\n",
        "  bob_key.append(randint(0,25))"
      ],
      "execution_count": 0,
      "outputs": []
    },
    {
      "cell_type": "code",
      "metadata": {
        "id": "28uXgF4rkYna",
        "colab_type": "code",
        "colab": {}
      },
      "source": [
        "def alphabet_to_numeral(alphabet):\n",
        "  for i in range(0,(len(letters)-1)):\n",
        "    if(alphabet == letters[i] ):\n",
        "      return i\n",
        "    "
      ],
      "execution_count": 0,
      "outputs": []
    },
    {
      "cell_type": "markdown",
      "metadata": {
        "id": "dkX2ggWYyXFU",
        "colab_type": "text"
      },
      "source": [
        "the message is turned from data to numbers"
      ]
    },
    {
      "cell_type": "code",
      "metadata": {
        "id": "_gwfvmetlKbL",
        "colab_type": "code",
        "outputId": "2e1ad563-89f2-4d37-dec5-1275f4fc3c03",
        "colab": {
          "base_uri": "https://localhost:8080/",
          "height": 34
        }
      },
      "source": [
        "revised_message=[]\n",
        "for i in message:\n",
        "  revised_message.append(alphabet_to_numeral(i))\n",
        "revised_message"
      ],
      "execution_count": 0,
      "outputs": [
        {
          "output_type": "execute_result",
          "data": {
            "text/plain": [
              "[10, 8, 11, 11, 19, 7, 4, 4, 12, 15, 4, 17, 14, 17]"
            ]
          },
          "metadata": {
            "tags": []
          },
          "execution_count": 58
        }
      ]
    },
    {
      "cell_type": "markdown",
      "metadata": {
        "id": "T_lI_y_xyhTz",
        "colab_type": "text"
      },
      "source": [
        "alice encrypts her message"
      ]
    },
    {
      "cell_type": "code",
      "metadata": {
        "id": "CSeSbsuklfsS",
        "colab_type": "code",
        "outputId": "bd8af5b3-bea8-43ca-c41f-e44881a8c1e8",
        "colab": {
          "base_uri": "https://localhost:8080/",
          "height": 34
        }
      },
      "source": [
        "alice_encrypted_message=[]\n",
        "for i in range(0,len(revised_message)):\n",
        "  encryption_data=revised_message[i]+alice_key[i]\n",
        "  if encryption_data > 25 :\n",
        "    encryption_data-=25\n",
        "  alice_encrypted_message.append(encryption_data)\n",
        "alice_encrypted_message"
      ],
      "execution_count": 0,
      "outputs": [
        {
          "output_type": "execute_result",
          "data": {
            "text/plain": [
              "[3, 15, 13, 9, 8, 15, 2, 9, 24, 14, 8, 23, 19, 2]"
            ]
          },
          "metadata": {
            "tags": []
          },
          "execution_count": 59
        }
      ]
    },
    {
      "cell_type": "markdown",
      "metadata": {
        "id": "MHXHcaRtykmz",
        "colab_type": "text"
      },
      "source": [
        "the message that is encrypted by alice is sent to bob and is encrypted by him"
      ]
    },
    {
      "cell_type": "code",
      "metadata": {
        "id": "ns9vn7plnVEa",
        "colab_type": "code",
        "outputId": "8126e951-3c8b-4546-ef37-746b1e2845b8",
        "colab": {
          "base_uri": "https://localhost:8080/",
          "height": 34
        }
      },
      "source": [
        "bob_encrypted_message=[]\n",
        "for i in range(0,len(alice_encrypted_message)):\n",
        "  encryption_data=alice_encrypted_message[i]+bob_key[i]\n",
        "  if encryption_data > 25 :\n",
        "    encryption_data-=25\n",
        "  bob_encrypted_message.append(encryption_data)\n",
        "bob_encrypted_message"
      ],
      "execution_count": 0,
      "outputs": [
        {
          "output_type": "execute_result",
          "data": {
            "text/plain": [
              "[4, 18, 13, 22, 16, 17, 12, 7, 1, 1, 20, 23, 17, 4]"
            ]
          },
          "metadata": {
            "tags": []
          },
          "execution_count": 60
        }
      ]
    },
    {
      "cell_type": "markdown",
      "metadata": {
        "id": "bx5tRm4Iy2qb",
        "colab_type": "text"
      },
      "source": [
        "bob sends the message that is encrypted by both alice and him back to alice.She decrypts it with her own key, leaving the message only having bobs encryption"
      ]
    },
    {
      "cell_type": "code",
      "metadata": {
        "id": "-fshjrbEo3Qd",
        "colab_type": "code",
        "outputId": "4ac221d0-75b2-4e50-a841-28b8ace7386f",
        "colab": {
          "base_uri": "https://localhost:8080/",
          "height": 34
        }
      },
      "source": [
        "alice_unencrypted_message=[]\n",
        "for i in range(0,len(bob_encrypted_message)):\n",
        "  decryption_data=bob_encrypted_message[i]-alice_key[i]\n",
        "  if decryption_data < 0 :\n",
        "    decryption_data+=25\n",
        "  alice_unencrypted_message.append(decryption_data)\n",
        "alice_unencrypted_message"
      ],
      "execution_count": 0,
      "outputs": [
        {
          "output_type": "execute_result",
          "data": {
            "text/plain": [
              "[11, 11, 11, 24, 2, 9, 14, 2, 14, 2, 16, 17, 12, 19]"
            ]
          },
          "metadata": {
            "tags": []
          },
          "execution_count": 61
        }
      ]
    },
    {
      "cell_type": "markdown",
      "metadata": {
        "id": "VNxxRsj32NNk",
        "colab_type": "text"
      },
      "source": [
        "bob recieves the message from alice. He decrypts it.The message is now fully decrypted"
      ]
    },
    {
      "cell_type": "code",
      "metadata": {
        "id": "nR1E-v2CvuQE",
        "colab_type": "code",
        "outputId": "26464f02-4734-4f03-e43b-7db29c5884c8",
        "colab": {
          "base_uri": "https://localhost:8080/",
          "height": 34
        }
      },
      "source": [
        "bob_unencrypted_message=[]\n",
        "for i in range(0,len(alice_unencrypted_message)):\n",
        "  decryption_data=alice_unencrypted_message[i]-bob_key[i]\n",
        "  if decryption_data < 0 :\n",
        "    decryption_data+=25\n",
        "  bob_unencrypted_message.append(decryption_data)\n",
        "bob_unencrypted_message"
      ],
      "execution_count": 0,
      "outputs": [
        {
          "output_type": "execute_result",
          "data": {
            "text/plain": [
              "[10, 8, 11, 11, 19, 7, 4, 4, 12, 15, 4, 17, 14, 17]"
            ]
          },
          "metadata": {
            "tags": []
          },
          "execution_count": 62
        }
      ]
    },
    {
      "cell_type": "markdown",
      "metadata": {
        "id": "mvo8GN6M2eCE",
        "colab_type": "text"
      },
      "source": [
        "bob converts the message from numbers to letters"
      ]
    },
    {
      "cell_type": "code",
      "metadata": {
        "id": "anOV6llavwap",
        "colab_type": "code",
        "outputId": "d0238b1c-52ce-49a4-8eef-1ebe6c8bb4aa",
        "colab": {
          "base_uri": "https://localhost:8080/",
          "height": 34
        }
      },
      "source": [
        "def numeral_to_alphabet(number):\n",
        "  return letters[number]\n",
        "completely_decrypted_message=[]\n",
        "for i in range(0,len(bob_unencrypted_message)):\n",
        "  completely_decrypted_message.append(numeral_to_alphabet(bob_unencrypted_message[i]))\n",
        "completely_decrypted_message"
      ],
      "execution_count": 0,
      "outputs": [
        {
          "output_type": "execute_result",
          "data": {
            "text/plain": [
              "['k', 'i', 'l', 'l', 't', 'h', 'e', 'e', 'm', 'p', 'e', 'r', 'o', 'r']"
            ]
          },
          "metadata": {
            "tags": []
          },
          "execution_count": 63
        }
      ]
    },
    {
      "cell_type": "markdown",
      "metadata": {
        "id": "jUP6zwKm3bzG",
        "colab_type": "text"
      },
      "source": [
        "the message is outputed on bobs computer "
      ]
    },
    {
      "cell_type": "code",
      "metadata": {
        "id": "5OmJKa573jFe",
        "colab_type": "code",
        "outputId": "93227fa1-2f7e-4fcd-8442-988aef9856b0",
        "colab": {
          "base_uri": "https://localhost:8080/",
          "height": 34
        }
      },
      "source": [
        "final_work=\"\"\n",
        "for i in completely_decrypted_message:\n",
        "  final_work+=i\n",
        "print(final_work)"
      ],
      "execution_count": 0,
      "outputs": [
        {
          "output_type": "stream",
          "text": [
            "killtheemperor\n"
          ],
          "name": "stdout"
        }
      ]
    }
  ]
}